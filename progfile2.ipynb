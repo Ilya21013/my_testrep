# test file
a = 3
